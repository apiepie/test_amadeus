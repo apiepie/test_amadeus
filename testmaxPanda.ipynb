{
 "cells": [
  {
   "cell_type": "code",
   "execution_count": 35,
   "metadata": {
    "collapsed": false
   },
   "outputs": [
    {
     "name": "stdout",
     "output_type": "stream",
     "text": [
      "10000011\n",
      "           pax\n",
      "arrival       \n",
      "LHR      88809\n",
      "MCO      70930\n",
      "LAX      70530\n",
      "LAS      69630\n",
      "JFK      66270\n",
      "CDG      64490\n",
      "BKK      59460\n",
      "MIA      58150\n",
      "SFO      58000\n",
      "DXB      55590\n"
     ]
    },
    {
     "name": "stderr",
     "output_type": "stream",
     "text": [
      "C:\\Users\\piepie\\Anaconda3\\lib\\site-packages\\ipykernel\\__main__.py:56: FutureWarning: sort(columns=....) is deprecated, use sort_values(by=.....)\n"
     ]
    }
   ],
   "source": [
    "#!/usr/bin/python\n",
    "# vim: set fileencoding=utf-8 :\n",
    "\n",
    "\n",
    "import pandas as pd\n",
    "import numpy as np\n",
    "import os\n",
    "import sys\n",
    "import getopt\n",
    "import gzip\n",
    "import bz2\n",
    "import csv, codecs\n",
    "import itertools\n",
    "import operator\n",
    "\n",
    "\n",
    "\n",
    "departure=[]\n",
    "arrival=[]\n",
    "pax=[]\n",
    "def count_lines2(file_name):\n",
    "    fd = bz2.BZ2File(file_name, 'rb')\n",
    "    c = codecs.iterdecode(fd, \"utf-8\")\n",
    "    n = 0\n",
    "    reader = csv.reader(c, delimiter='^')\n",
    "\n",
    "    \n",
    "    #parse the file get arrival and pax\n",
    "    for line in reader:\n",
    "       # print(line)\n",
    "        if(n!=0 and len(line)>34):\n",
    "           ## departure.append(line[9].strip())\n",
    "            arrival.append(line[12].strip())\n",
    "            pax.append(int(line[34].strip()))\n",
    "        n +=1\n",
    "        \n",
    "        #if(n==10):\n",
    "         #   return 0\n",
    "    fd.close()\n",
    "    return n\n",
    "\n",
    "print(count_lines2(r'C:\\Users\\piepie\\Downloads\\bookings.csv.bz2'))\n",
    "\n",
    "#print(\"len\")\n",
    "#print(len(departure))\n",
    "#for t in departure:\n",
    " #   print(t)\n",
    "\n",
    "    \n",
    "##create the dataFrame with values\n",
    "df=pd.DataFrame({'arrival':arrival, 'pax':pax})\n",
    "\n",
    "##print(df)\n",
    "\n",
    "## group by departure and arrival\n",
    "tt = df.groupby(['arrival']).sum().sort('pax',ascending=[False])\n",
    "\n",
    "\n",
    "#print(tt)\n",
    "print(tt.head(10))\n",
    "\n"
   ]
  },
  {
   "cell_type": "code",
   "execution_count": null,
   "metadata": {
    "collapsed": false
   },
   "outputs": [],
   "source": []
  },
  {
   "cell_type": "code",
   "execution_count": null,
   "metadata": {
    "collapsed": false
   },
   "outputs": [],
   "source": []
  },
  {
   "cell_type": "code",
   "execution_count": null,
   "metadata": {
    "collapsed": true
   },
   "outputs": [],
   "source": []
  },
  {
   "cell_type": "code",
   "execution_count": null,
   "metadata": {
    "collapsed": true
   },
   "outputs": [],
   "source": []
  },
  {
   "cell_type": "code",
   "execution_count": null,
   "metadata": {
    "collapsed": true
   },
   "outputs": [],
   "source": []
  }
 ],
 "metadata": {
  "kernelspec": {
   "display_name": "Python 3",
   "language": "python",
   "name": "python3"
  },
  "language_info": {
   "codemirror_mode": {
    "name": "ipython",
    "version": 3
   },
   "file_extension": ".py",
   "mimetype": "text/x-python",
   "name": "python",
   "nbconvert_exporter": "python",
   "pygments_lexer": "ipython3",
   "version": "3.5.0"
  }
 },
 "nbformat": 4,
 "nbformat_minor": 0
}
