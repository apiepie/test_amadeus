{
 "cells": [
  {
   "cell_type": "code",
   "execution_count": 1,
   "metadata": {
    "collapsed": true
   },
   "outputs": [],
   "source": [
    "#!/usr/bin/python\n",
    "# vim: set fileencoding=utf-8 :\n",
    "\n",
    "\n",
    "import os\n",
    "import sys\n",
    "import getopt\n",
    "import gzip\n",
    "import bz2\n",
    "import csv, codecs\n",
    "import itertools\n",
    "import operator\n",
    "\n",
    "airportbookigs = {}\n",
    "\n",
    "def sear_max(file_name):\n",
    "    fd = bz2.BZ2File(file_name, 'rb')\n",
    "    c = codecs.iterdecode(fd, \"utf-8\")\n",
    "    reader = csv.reader(c, delimiter='^')\n",
    "    print(reader, None)  # skip header\n",
    "\n",
    "    p=0\n",
    "    maliste = []\n",
    "    for line in reader:  \n",
    "        #skipp hearder\n",
    "        if(p!=0 and len(line)>34 and len(line[12])!=0 and len(line[34])!=0):\n",
    "            if(len(airportbookigs)==0):\n",
    "                airportbookigs[line[12].strip()]=int(line[34].strip())\n",
    "            elif(line[12] in airportbookigs.keys()):\n",
    "                airportbookigs[line[12].strip()]+=int(line[34].strip())\n",
    "            else:\n",
    "                airportbookigs[line[12].strip()]=int(line[34].strip())\n",
    "\n",
    "            #if(line[12].strip()==\"CDG\"):\n",
    "              #  print(line[34])\n",
    "        p = p + 1\n",
    "        \n",
    "sear_max(r'C:\\Users\\piepie\\Downloads\\bookings.csv.bz2')\n",
    "\n",
    "print(\"cdg\")\n",
    "print(airportbookigs.get(\"CDG\"))\n",
    "#for k in airportbookigs.keys():\n",
    "    #print(k)\n",
    "   # print(airportbookigs.get(k))\n",
    "\n",
    "print(\"fin du test\")\n",
    "print(max(airportbookigs, key=airportbookigs.get))\n",
    "print(airportbookigs.get(max(airportbookigs, key=airportbookigs.get)))\n",
    "\n",
    "print(\"10 max\")\n",
    "newA = dict(sorted(airportbookigs.items(), key=operator.itemgetter(1), reverse=True)[:10])\n",
    "print(len(newA))\n",
    "for t in newA:\n",
    "    print(t)\n",
    "    print(newA.get(t))\n",
    "\n",
    "\n"
   ]
  },
  {
   "cell_type": "code",
   "execution_count": null,
   "metadata": {
    "collapsed": true
   },
   "outputs": [],
   "source": []
  },
  {
   "cell_type": "code",
   "execution_count": null,
   "metadata": {
    "collapsed": true
   },
   "outputs": [],
   "source": []
  },
  {
   "cell_type": "code",
   "execution_count": null,
   "metadata": {
    "collapsed": true
   },
   "outputs": [],
   "source": []
  }
 ],
 "metadata": {
  "kernelspec": {
   "display_name": "Python 3",
   "language": "python",
   "name": "python3"
  },
  "language_info": {
   "codemirror_mode": {
    "name": "ipython",
    "version": 3
   },
   "file_extension": ".py",
   "mimetype": "text/x-python",
   "name": "python",
   "nbconvert_exporter": "python",
   "pygments_lexer": "ipython3",
   "version": "3.5.0"
  }
 },
 "nbformat": 4,
 "nbformat_minor": 0
}
