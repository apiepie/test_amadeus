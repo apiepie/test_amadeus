{
 "cells": [
  {
   "cell_type": "code",
   "execution_count": 3,
   "metadata": {
    "collapsed": false
   },
   "outputs": [
    {
     "name": "stdout",
     "output_type": "stream",
     "text": [
      "Test plot\n",
      "<_csv.reader object at 0x0000006ACF39EA08> None\n",
      "fin du test\n"
     ]
    },
    {
     "data": {
      "image/png": "[encoded data removed]",
      "text/plain": [
       "<matplotlib.figure.Figure at 0x6acda75278>"
      ]
     },
     "metadata": {},
     "output_type": "display_data"
    }
   ],
   "source": [
    "#!/usr/bin/python\n",
    "# vim: set fileencoding=utf-8 :\n",
    "%matplotlib inline\n",
    "\n",
    "\n",
    "import os\n",
    "import sys\n",
    "import getopt\n",
    "import gzip\n",
    "import bz2\n",
    "import csv, codecs\n",
    "import itertools\n",
    "import operator\n",
    "\n",
    "import pylab\n",
    "import numpy as np\n",
    "import matplotlib.pyplot as plt\n",
    "\n",
    "import matplotlib\n",
    "import datetime\n",
    "\n",
    "from itertools import groupby\n",
    "\n",
    "\n",
    "mal={}\n",
    "\n",
    "mad={}\n",
    "\n",
    "bcn={}\n",
    "\n",
    "def get_month(d):\n",
    "    return datetime.datetime.strptime(d, '%Y-%m-%d').month\n",
    "\n",
    "\n",
    "\n",
    "\n",
    "\n",
    "\n",
    "def count_lines2(file_name):\n",
    "    fd = bz2.BZ2File(file_name, 'rb')\n",
    "    c = codecs.iterdecode(fd, \"utf-8\")\n",
    "\n",
    "    n = 0\n",
    "    print (\"Test plot\")\n",
    "    reader = csv.reader(c, delimiter='^')\n",
    "    print(reader, None)  # skip header\n",
    "\n",
    "    p=0\n",
    "    maliste = []\n",
    "    for line in reader :  \n",
    "        p = p + 1\n",
    "        if(len(line)>=7 and line[6]==\"AGP\"):\n",
    "            if(len(mal)!=0 and line[0][:7] in mal.keys()):\n",
    "                mal[line[0][:7]] = mal[line[0][:7]]+1\n",
    "            else:\n",
    "                mal[line[0][:7]] = 1\n",
    "           \n",
    "\n",
    "        elif(len(line)>=7 and line[6]==\"MAD\"):\n",
    "            if(len(mad)!=0 and line[0][:7] in mad.keys()):                \n",
    "                mad[line[0][:7]] = mad[line[0][:7]]+1\n",
    "            else:\n",
    "                mad[line[0][:7]] = 1\n",
    "\n",
    "\n",
    "        elif(len(line)>=7 and line[6]==\"BCN\"):\n",
    "            if(len(bcn)!=0 and line[0][:7] in bcn.keys()):\n",
    "                bcn[line[0][:7]] = bcn[line[0][:7]]+1\n",
    "            else:\n",
    "                bcn[line[0][:7]] = 1\n",
    "\n",
    "      #  if(p>=999999):\n",
    "       #     return 0\n",
    "    print(\"fin du test\")\n",
    "\n",
    "count_lines2(r'C:\\Users\\piepie\\Downloads\\searches.csv.bz2')\n",
    "\n",
    "dates_find=[]\n",
    "\n",
    "\n",
    "\n",
    "for d in mad.keys():\n",
    "    dates_find.append(d)\n",
    "\n",
    "dates_find.sort()\n",
    "\n",
    "dates_datetime = []\n",
    "listmal= []\n",
    "listmad= []\n",
    "listbcn = []\n",
    "\n",
    "\n",
    "for d in dates_find:\n",
    "   dates_datetime.append(datetime.datetime.strptime(d, '%Y-%m'))\n",
    "   listmad.append(mad.get(d))\n",
    "   listmal.append(mal.get(d))\n",
    "   listbcn.append(bcn.get(d))\n",
    "dates_float = matplotlib.dates.date2num(dates_datetime)\n",
    "\n",
    "plt.plot_date(dates_float, listmad, linestyle='-', xdate=True, ydate=False)\n",
    "plt.plot_date(dates_float, listmal, linestyle='-', xdate=True, ydate=False)\n",
    "plt.plot_date(dates_float, listbcn, linestyle='-', xdate=True, ydate=False)\n",
    "\n",
    "plt.legend(['Madrid', 'Malaga','Barcelona'], loc='upper left')\n",
    "\n",
    "\n",
    "\n",
    "pylab.show()\n",
    "\n",
    "\n",
    "\n",
    "\n"
   ]
  },
  {
   "cell_type": "code",
   "execution_count": null,
   "metadata": {
    "collapsed": true
   },
   "outputs": [],
   "source": []
  },
  {
   "cell_type": "code",
   "execution_count": null,
   "metadata": {
    "collapsed": true
   },
   "outputs": [],
   "source": []
  },
  {
   "cell_type": "code",
   "execution_count": null,
   "metadata": {
    "collapsed": false
   },
   "outputs": [],
   "source": []
  },
  {
   "cell_type": "code",
   "execution_count": null,
   "metadata": {
    "collapsed": true
   },
   "outputs": [],
   "source": []
  },
  {
   "cell_type": "code",
   "execution_count": null,
   "metadata": {
    "collapsed": true
   },
   "outputs": [],
   "source": []
  },
  {
   "cell_type": "code",
   "execution_count": null,
   "metadata": {
    "collapsed": true
   },
   "outputs": [],
   "source": []
  }
 ],
 "metadata": {
  "kernelspec": {
   "display_name": "Python 3",
   "language": "python",
   "name": "python3"
  },
  "language_info": {
   "codemirror_mode": {
    "name": "ipython",
    "version": 3
   },
   "file_extension": ".py",
   "mimetype": "text/x-python",
   "name": "python",
   "nbconvert_exporter": "python",
   "pygments_lexer": "ipython3",
   "version": "3.5.0"
  }
 },
 "nbformat": 4,
 "nbformat_minor": 0
}
