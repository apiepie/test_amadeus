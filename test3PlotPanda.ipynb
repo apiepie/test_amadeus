{
 "cells": [
  {
   "cell_type": "code",
   "execution_count": 72,
   "metadata": {
    "collapsed": false
   },
   "outputs": [
    {
     "name": "stdout",
     "output_type": "stream",
     "text": [
      "Test plot\n",
      "<_csv.reader object at 0x00000041575DDE80> None\n"
     ]
    },
    {
     "data": {
      "image/png": "[encoded data removed]",
      "text/plain": [
       "<matplotlib.figure.Figure at 0x4156d929e8>"
      ]
     },
     "metadata": {},
     "output_type": "display_data"
    }
   ],
   "source": [
    "#!/usr/bin/python\n",
    "# vim: set fileencoding=utf-8 :\n",
    "%matplotlib inline\n",
    "\n",
    "\n",
    "import os\n",
    "import sys\n",
    "import getopt\n",
    "import gzip\n",
    "import bz2\n",
    "import csv, codecs\n",
    "import itertools\n",
    "import operator\n",
    "\n",
    "import pylab\n",
    "import numpy as np\n",
    "import matplotlib.pyplot as plt\n",
    "\n",
    "import matplotlib\n",
    "import datetime\n",
    "\n",
    "from itertools import groupby\n",
    "\n",
    "\n",
    "mal={}\n",
    "\n",
    "mad={}\n",
    "\n",
    "bcn={}\n",
    "\n",
    "def get_month(d):\n",
    "    return datetime.datetime.strptime(d, '%Y-%m-%d').month\n",
    "\n",
    "\n",
    "dest=[]\n",
    "dest_dates=[]\n",
    "visits=[]\n",
    "\n",
    "def count_lines2(file_name):\n",
    "    fd = bz2.BZ2File(file_name, 'rb')\n",
    "    c = codecs.iterdecode(fd, \"utf-8\")\n",
    "\n",
    "    n = 0\n",
    "    print (\"Test plot\")\n",
    "    reader = csv.reader(c, delimiter='^')\n",
    "    print(reader, None)  # skip header\n",
    "\n",
    "    p=0\n",
    "    maliste = []\n",
    "    for line in reader :  \n",
    "        p = p + 1\n",
    "        \n",
    "        if(len(line)>6 and p!=1 and line[6] in (\"MAD\",\"BCN\",\"AGP\")):\n",
    "            dest.append(line[6].strip())\n",
    "           # print(line[0])\n",
    "            dest_dates.append(datetime.datetime.strptime(line[0].strip(),'%Y-%m-%d'))\n",
    "            visits.append(1)\n",
    "        \n",
    "       # if(p>100000):\n",
    "        #    return 0\n",
    "      #  if(p>=999999):\n",
    "       #     return 0\n",
    "        \n",
    "        \n",
    "        \n",
    "        #print(\"fin du test\")\n",
    "\n",
    "count_lines2(r'C:\\Users\\piepie\\Downloads\\searches.csv.bz2')\n",
    "\n",
    "#print(len(dest))\n",
    "#print(len(dest_dates))\n",
    "#create a DataFrame\n",
    "df = pd.DataFrame({'destination':dest, 'dest_dates':dest_dates, 'visits':visits})\n",
    "\n",
    "#print(df)\n",
    "\n",
    "#group by the same destination with a index, and group all dates for the same month\n",
    "tt = df.set_index('dest_dates').groupby('destination').resample('M', how='sum')\n",
    "#print(tt.head())\n",
    "\n",
    "\n",
    "dates_datetime1=[]\n",
    "dates_datetime2=[]\n",
    "dates_datetime3=[]\n",
    "listmad=[]\n",
    "listbcn=[]\n",
    "listmal=[]\n",
    "\n",
    "for mm in tt.itertuples():\n",
    "    \n",
    "    if(mm[0][0]==\"MAD\"):\n",
    "        listmad.append(mm[1])\n",
    "        dates_datetime1.append(mm[0][1])\n",
    "    elif(mm[0][0]==\"BCN\"):\n",
    "        listbcn.append(mm[1])\n",
    "        dates_datetime2.append(mm[0][1])\n",
    "    else:\n",
    "        listmal.append(mm[1])\n",
    "        dates_datetime3.append(mm[0][1])\n",
    "        \n",
    "\n",
    "dates_float1 = matplotlib.dates.date2num(dates_datetime1)\n",
    "dates_float2 = matplotlib.dates.date2num(dates_datetime2)\n",
    "dates_float3 = matplotlib.dates.date2num(dates_datetime3)\n",
    "\n",
    "plt.plot_date(dates_float1, listmad, linestyle='-', xdate=True, ydate=False)\n",
    "plt.plot_date(dates_float2, listmal, linestyle='-', xdate=True, ydate=False)\n",
    "plt.plot_date(dates_float3, listbcn, linestyle='-', xdate=True, ydate=False)\n",
    "\n",
    "plt.legend(['Madrid', 'Malaga','Barcelona'], loc='upper left')\n",
    "\n",
    "\n",
    "\n",
    "pylab.show()\n",
    "\n"
   ]
  },
  {
   "cell_type": "code",
   "execution_count": null,
   "metadata": {
    "collapsed": false
   },
   "outputs": [],
   "source": []
  },
  {
   "cell_type": "code",
   "execution_count": null,
   "metadata": {
    "collapsed": false
   },
   "outputs": [],
   "source": []
  },
  {
   "cell_type": "code",
   "execution_count": null,
   "metadata": {
    "collapsed": true
   },
   "outputs": [],
   "source": []
  },
  {
   "cell_type": "code",
   "execution_count": null,
   "metadata": {
    "collapsed": true
   },
   "outputs": [],
   "source": []
  },
  {
   "cell_type": "code",
   "execution_count": null,
   "metadata": {
    "collapsed": true
   },
   "outputs": [],
   "source": []
  }
 ],
 "metadata": {
  "kernelspec": {
   "display_name": "Python 3",
   "language": "python",
   "name": "python3"
  },
  "language_info": {
   "codemirror_mode": {
    "name": "ipython",
    "version": 3
   },
   "file_extension": ".py",
   "mimetype": "text/x-python",
   "name": "python",
   "nbconvert_exporter": "python",
   "pygments_lexer": "ipython3",
   "version": "3.5.0"
  }
 },
 "nbformat": 4,
 "nbformat_minor": 0
}
