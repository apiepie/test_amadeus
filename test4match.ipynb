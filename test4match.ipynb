{
 "cells": [
  {
   "cell_type": "code",
   "execution_count": 4,
   "metadata": {
    "collapsed": false
   },
   "outputs": [
    {
     "name": "stdout",
     "output_type": "stream",
     "text": [
      "count booking\n",
      "None\n",
      "count searches\n",
      "['Date', 'Time', 'TxnCode', 'OfficeID', 'Country', 'Origin', 'Destination', 'RoundTrip', 'NbSegments', 'Seg1Departure', 'Seg1Arrival', 'Seg1Date', 'Seg1Carrier', 'Seg1BookingCode', 'Seg2Departure', 'Seg2Arrival', 'Seg2Date', 'Seg2Carrier', 'Seg2BookingCode', 'Seg3Departure', 'Seg3Arrival', 'Seg3Date', 'Seg3Carrier', 'Seg3BookingCode', 'Seg4Departure', 'Seg4Arrival', 'Seg4Date', 'Seg4Carrier', 'Seg4BookingCode', 'Seg5Departure', 'Seg5Arrival', 'Seg5Date', 'Seg5Carrier', 'Seg5BookingCode', 'Seg6Departure', 'Seg6Arrival', 'Seg6Date', 'Seg6Carrier', 'Seg6BookingCode', 'From', 'IsPublishedForNeg', 'IsFromInternet', 'IsFromVista', 'TerminalID', 'InternetOffice']\n",
      "['2013-01-01', '20:25:57', 'MPT', '624d8c3ac0b3a7ca03e3c167e0f48327', 'DE', 'TXL', 'AUH', '1', '2', 'TXL', 'AUH', '2013-01-26', 'D2', '', 'AUH', 'TXL', '2013-02-02', 'D2', '', '', '', '', '', '', '', '', '', '', '', '', '', '', '', '', '', '', '', '', '', '1ASIWS', '0', '0', '0', 'd41d8cd98f00b204e9800998ecf8427e', 'FRA']\n",
      "['2013-01-01', '10:15:33', 'MPT', 'b0af35b31588dc4ab06d5cf2986e8e02', 'MD', 'ATH', 'MIL', '0', '1', 'ATH', 'MIL', '2013-01-04', '', '', '', '', '', '', '', '', '', '', '', '', '', '', '', '', '', '', '', '', '', '', '', '', '', '', '', '1ASIWS', '0', '0', '0', 'd41d8cd98f00b204e9800998ecf8427e', 'KIV']\n",
      "['2013-01-01', '18:04:49', 'MPT', '3561a60621de06ab1badc8ca55699ef3', 'US', 'ICT', 'SFO', '1', '2', 'ICT', 'SFO', '2013-08-02', '', '', 'SFO', 'ICT', '2013-08-09', '', '', '', '', '', '', '', '', '', '', '', '', '', '', '', '', '', '', '', '', '', '', '1ASIWS', '0', '0', '0', 'd41d8cd98f00b204e9800998ecf8427e', 'NYC']\n",
      "['2013-01-01', '17:42:40', 'FXP', '1864e5e8013d9414150e91d26b6a558b', 'SE', 'RNB', 'ARN', '0', '1', 'RNB', 'ARN', '2013-01-02', 'DU', 'W', '', '', '', '', '', '', '', '', '', '', '', '', '', '', '', '', '', '', '', '', '', '', '', '', '', '1ASI', '0', '0', '0', 'd41d8cd98f00b204e9800998ecf8427e', 'STO']\n",
      "['2013-01-01', '17:48:29', 'MPT', '1ec336348f44207d2e0027dc3a68c118', 'NO', 'OSL', 'MAD', '1', '2', 'OSL', 'MAD', '2013-03-22', '', '', 'MAD', 'OSL', '2013-03-31', '', '', '', '', '', '', '', '', '', '', '', '', '', '', '', '', '', '', '', '', '', '', '1ASIWS', '0', '0', '0', 'd41d8cd98f00b204e9800998ecf8427e', 'OSL']\n",
      "0\n"
     ]
    }
   ],
   "source": [
    "#!/usr/bin/python\n",
    "# vim: set fileencoding=utf-8 :\n",
    "\n",
    "\n",
    "import os\n",
    "import sys\n",
    "import getopt\n",
    "import gzip\n",
    "import bz2\n",
    "import csv, codecs\n",
    "import itertools\n",
    "import operator\n",
    "import csv\n",
    "\n",
    "\n",
    "bookings={}\n",
    "\n",
    "# get the booking keys\n",
    "def count_bookings(file_name):\n",
    "    print(\"count booking\")\n",
    "    fd = bz2.BZ2File(file_name, 'rb')\n",
    "    c = codecs.iterdecode(fd, \"utf-8\")\n",
    "    n = 0\n",
    "    reader = csv.reader(c, delimiter='^')\n",
    "\n",
    "\n",
    "    w = csv.writer(open(\"output.csv\", \"w\"))\n",
    "    for line in reader:\n",
    "\n",
    "        # get the departure, arrival and bording time\n",
    "        if(n!=0 and len(line)>34 and len(line[12])!=0 and len(line[9])!=0 and len(line[34])!=0):            \n",
    "            bookings[line[9].strip()+line[12].strip()+line[32].strip()[:10]]=1\n",
    "            \n",
    "      #  if(line[9].strip()==\"ZRH\" and line[12].strip()==\"YVR\"):\n",
    "       #     print(line[32].strip()[:10])\n",
    "\n",
    "\n",
    "        n+=1\n",
    "        #if(n>=99999):\n",
    "         #   return 0\n",
    "\n",
    "    fd.close()\n",
    "\n",
    "\n",
    "# read searches infos and match with the booking keys\n",
    "# some search information contains city info\n",
    "def searches(file_name):\n",
    "    print(\"count searches\")\n",
    "    fd = bz2.BZ2File(file_name, 'rb')\n",
    "    c = codecs.iterdecode(fd, \"utf-8\")\n",
    "    n = 0\n",
    "    reader = csv.reader(c, delimiter='^')\n",
    "\n",
    "\n",
    "    w = csv.writer(open(\"output.csv\", \"w\"))\n",
    "    for line in reader:\n",
    "\n",
    "        if(n<=5):\n",
    "            print(line)\n",
    "    #    if(n==5):\n",
    "     #       return 0\n",
    "        #print(line)\n",
    "        #departure, arrival and date key\n",
    "        deparr=line[5].strip()+line[6].strip()+line[11].strip()\n",
    "        if(deparr in bookings.keys()):\n",
    "            line.append(\"1\")\n",
    "        else:\n",
    "            line.append(\"0\")\n",
    "        w.writerow(line)\n",
    "\n",
    "        n+=1\n",
    "        if(n>=999):\n",
    "           return 0\n",
    "\n",
    "print(count_bookings(r'C:\\Users\\piepie\\Downloads\\bookings.csv.bz2'))\n",
    "\n",
    "print(searches(r'C:\\Users\\piepie\\Downloads\\searches.csv.bz2'))\n",
    "\n"
   ]
  },
  {
   "cell_type": "code",
   "execution_count": null,
   "metadata": {
    "collapsed": true
   },
   "outputs": [],
   "source": []
  },
  {
   "cell_type": "code",
   "execution_count": null,
   "metadata": {
    "collapsed": true
   },
   "outputs": [],
   "source": []
  },
  {
   "cell_type": "code",
   "execution_count": null,
   "metadata": {
    "collapsed": false
   },
   "outputs": [],
   "source": []
  },
  {
   "cell_type": "code",
   "execution_count": null,
   "metadata": {
    "collapsed": true
   },
   "outputs": [],
   "source": []
  },
  {
   "cell_type": "code",
   "execution_count": null,
   "metadata": {
    "collapsed": true
   },
   "outputs": [],
   "source": []
  },
  {
   "cell_type": "code",
   "execution_count": null,
   "metadata": {
    "collapsed": true
   },
   "outputs": [],
   "source": []
  }
 ],
 "metadata": {
  "kernelspec": {
   "display_name": "Python 3",
   "language": "python",
   "name": "python3"
  },
  "language_info": {
   "codemirror_mode": {
    "name": "ipython",
    "version": 3
   },
   "file_extension": ".py",
   "mimetype": "text/x-python",
   "name": "python",
   "nbconvert_exporter": "python",
   "pygments_lexer": "ipython3",
   "version": "3.5.0"
  }
 },
 "nbformat": 4,
 "nbformat_minor": 0
}
